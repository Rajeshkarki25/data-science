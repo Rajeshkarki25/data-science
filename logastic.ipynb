{
 "cells": [
  {
   "cell_type": "code",
   "execution_count": 2,
   "id": "16827ea3-fea8-4d88-8368-0afd08befbe9",
   "metadata": {
    "tags": []
   },
   "outputs": [
    {
     "name": "stderr",
     "output_type": "stream",
     "text": [
      "[nltk_data] Downloading package stopwords to\n",
      "[nltk_data]     C:\\Users\\user\\AppData\\Roaming\\nltk_data...\n",
      "[nltk_data]   Unzipping corpora\\stopwords.zip.\n"
     ]
    }
   ],
   "source": [
    "import numpy as np\n",
    "import pandas as pd\n",
    "import re,string\n",
    "import matplotlib.pyplot as plt\n",
    "from nltk.corpus import stopwords\n",
    "from nltk.stem import PorterStemmer\n",
    "from sklearn.feature_extraction.text import TfidfVectorizer\n",
    "from sklearn.pipeline import Pipeline\n",
    "from sklearn.metrics import classification_report, confusion_matrix\n",
    "from sklearn.model_selection import train_test_split\n",
    "from sklearn.feature_selection import SelectKBest, chi2\n",
    "# from sklearn.ensemble import RandomForestClassifier\n",
    "import pickle\n",
    "import nltk\n",
    "nltk.download('stopwords')\n",
    "%matplotlib inline"
   ]
  },
  {
   "cell_type": "code",
   "execution_count": 3,
   "id": "05e73493-a567-4bf3-9f2d-4ae3d118a73a",
   "metadata": {
    "tags": []
   },
   "outputs": [
    {
     "data": {
      "text/html": [
       "<div>\n",
       "<style scoped>\n",
       "    .dataframe tbody tr th:only-of-type {\n",
       "        vertical-align: middle;\n",
       "    }\n",
       "\n",
       "    .dataframe tbody tr th {\n",
       "        vertical-align: top;\n",
       "    }\n",
       "\n",
       "    .dataframe thead th {\n",
       "        text-align: right;\n",
       "    }\n",
       "</style>\n",
       "<table border=\"1\" class=\"dataframe\">\n",
       "  <thead>\n",
       "    <tr style=\"text-align: right;\">\n",
       "      <th></th>\n",
       "      <th>category</th>\n",
       "      <th>text</th>\n",
       "    </tr>\n",
       "  </thead>\n",
       "  <tbody>\n",
       "    <tr>\n",
       "      <th>861</th>\n",
       "      <td>tech</td>\n",
       "      <td>long life promised for laptop pcs scientists a...</td>\n",
       "    </tr>\n",
       "    <tr>\n",
       "      <th>609</th>\n",
       "      <td>sport</td>\n",
       "      <td>england given tough sevens draw england will h...</td>\n",
       "    </tr>\n",
       "    <tr>\n",
       "      <th>185</th>\n",
       "      <td>sport</td>\n",
       "      <td>almagro continues spanish surge unseeded nicol...</td>\n",
       "    </tr>\n",
       "    <tr>\n",
       "      <th>765</th>\n",
       "      <td>business</td>\n",
       "      <td>lufthansa flies back to profit german airline ...</td>\n",
       "    </tr>\n",
       "    <tr>\n",
       "      <th>1002</th>\n",
       "      <td>entertainment</td>\n",
       "      <td>jamelia s return to the top r&amp;b star jamelia h...</td>\n",
       "    </tr>\n",
       "    <tr>\n",
       "      <th>...</th>\n",
       "      <td>...</td>\n",
       "      <td>...</td>\n",
       "    </tr>\n",
       "    <tr>\n",
       "      <th>577</th>\n",
       "      <td>sport</td>\n",
       "      <td>hearts of oak 3-2 cotonsport hearts of oak set...</td>\n",
       "    </tr>\n",
       "    <tr>\n",
       "      <th>47</th>\n",
       "      <td>politics</td>\n",
       "      <td>campaign  cold calls  questioned labour and th...</td>\n",
       "    </tr>\n",
       "    <tr>\n",
       "      <th>2140</th>\n",
       "      <td>sport</td>\n",
       "      <td>celts savour grand slam prospect the six natio...</td>\n",
       "    </tr>\n",
       "    <tr>\n",
       "      <th>268</th>\n",
       "      <td>business</td>\n",
       "      <td>ex-boeing director gets jail term an ex-chief ...</td>\n",
       "    </tr>\n",
       "    <tr>\n",
       "      <th>209</th>\n",
       "      <td>sport</td>\n",
       "      <td>aragones angered by racism fine spain coach lu...</td>\n",
       "    </tr>\n",
       "  </tbody>\n",
       "</table>\n",
       "<p>2225 rows × 2 columns</p>\n",
       "</div>"
      ],
      "text/plain": [
       "           category                                               text\n",
       "861            tech  long life promised for laptop pcs scientists a...\n",
       "609           sport  england given tough sevens draw england will h...\n",
       "185           sport  almagro continues spanish surge unseeded nicol...\n",
       "765        business  lufthansa flies back to profit german airline ...\n",
       "1002  entertainment  jamelia s return to the top r&b star jamelia h...\n",
       "...             ...                                                ...\n",
       "577           sport  hearts of oak 3-2 cotonsport hearts of oak set...\n",
       "47         politics  campaign  cold calls  questioned labour and th...\n",
       "2140          sport  celts savour grand slam prospect the six natio...\n",
       "268        business  ex-boeing director gets jail term an ex-chief ...\n",
       "209           sport  aragones angered by racism fine spain coach lu...\n",
       "\n",
       "[2225 rows x 2 columns]"
      ]
     },
     "execution_count": 3,
     "metadata": {},
     "output_type": "execute_result"
    }
   ],
   "source": [
    "df = pd.read_csv('bbc-text.csv', encoding = 'latin1')\n",
    "df = df.sample(frac = 1)\n",
    "df"
   ]
  },
  {
   "cell_type": "code",
   "execution_count": 4,
   "id": "bbaf8931-3162-49c2-8326-418e52c25d57",
   "metadata": {
    "tags": []
   },
   "outputs": [
    {
     "data": {
      "text/plain": [
       "5"
      ]
     },
     "execution_count": 4,
     "metadata": {},
     "output_type": "execute_result"
    }
   ],
   "source": [
    "#No of a categories\n",
    "len(set(df['category']))"
   ]
  },
  {
   "cell_type": "code",
   "execution_count": 5,
   "id": "9d11f814-1be1-4127-bac2-e45d4b4a03b5",
   "metadata": {
    "tags": []
   },
   "outputs": [
    {
     "data": {
      "text/plain": [
       "category\n",
       "business         510\n",
       "entertainment    386\n",
       "politics         417\n",
       "sport            511\n",
       "tech             401\n",
       "Name: category, dtype: int64"
      ]
     },
     "execution_count": 5,
     "metadata": {},
     "output_type": "execute_result"
    }
   ],
   "source": [
    "df.groupby('category').category.count()"
   ]
  },
  {
   "cell_type": "code",
   "execution_count": 6,
   "id": "909f0c4e-b49d-4cb9-a1cc-cb3e6c6c37ce",
   "metadata": {
    "tags": []
   },
   "outputs": [
    {
     "data": {
      "image/png": "[encoded data removed]",
      "text/plain": [
       "<Figure size 640x480 with 1 Axes>"
      ]
     },
     "metadata": {},
     "output_type": "display_data"
    }
   ],
   "source": [
    "#Analyzing data\n",
    "df.groupby('category').category.count().plot.bar()\n",
    "plt.show()"
   ]
  },
  {
   "cell_type": "code",
   "execution_count": 7,
   "id": "af725180-9b67-42a8-b6d3-877ed4a9e09e",
   "metadata": {
    "tags": []
   },
   "outputs": [
    {
     "data": {
      "text/plain": [
       "'tv future in the hands of viewers with home theatre systems  plasma high definition tvs  and digital video recorders moving into the living room  the way people watch tv will be radically different in five years  time   that is according to an expert panel which gathered at the annual consumer electronics show in las vegas to discuss how these new technologies will impact one of our favourite pastimes  with the us leading the trend  programmes and other content will be delivered to viewers via home networks  through cable  satellite  telecoms companies  and broadband service providers to front rooms and portable devices   one of the most talked about technologies of ces has been digital and personal video recorders  dvr and pvr   these set top boxes  like the us s tivo and the uk s sky  system  allow people to record  store  play  pause and forward wind tv programmes when they want   essentially  the technology allows for much more personalised tv  they are also being built in to high definition tv sets  which are big business in japan and the us  but slower to take off in europe because of the lack of high definition programming  not only can people forward wind through adverts  they can also forget about abiding by network and channel schedules  putting together their own a la carte entertainment  but some us networks and cable and satellite companies are worried about what it means for them in terms of advertising revenues as well as  brand identity  and viewer loyalty to channels  although the us leads in this technology at the moment  it is also a concern that is being raised in europe  particularly with the growing uptake of services like sky    what happens here today  we will see in nine months to a years  time in the uk   adam hume  the bbc broadcast s futurologist told the bbc news website  for the likes of the bbc  there are no issues of lost advertising revenue yet  it is a more pressing issue at the moment for commercial uk broadcasters  but brand loyalty is important for everyone   we will be talking more about content brands rather than network brands   said tim hanlon  from brand communications firm starcom mediavest   the reality is that with broadband connections  anybody can be the producer of content   he added   the challenge now is that it is hard to promote a programme with so much choice    what this means  said stacey jolna  senior vice president of tv guide tv group  is that the way people find the content they want to watch has to be simplified for tv viewers  it means that networks  in us terms  or channels could take a leaf out of google s book and be the search engine of the future  instead of the scheduler to help people find what they want to watch  this kind of channel model might work for the younger ipod generation which is used to taking control of their gadgets and what they play on them  but it might not suit everyone  the panel recognised  older generations are more comfortable with familiar schedules and channel brands because they know what they are getting  they perhaps do not want so much of the choice put into their hands  mr hanlon suggested   on the other end  you have the kids just out of diapers who are pushing buttons already   everything is possible and available to them   said mr hanlon   ultimately  the consumer will tell the market they want    of the        new gadgets and technologies being showcased at ces  many of them are about enhancing the tv watching experience  high definition tv sets are everywhere and many new models of lcd  liquid crystal display  tvs have been launched with dvr capability built into them  instead of being external boxes  one such example launched at the show is humax s    inch lcd tv with an    hour tivo dvr and dvd recorder  one of the us s biggest satellite tv companies  directtv  has even launched its own branded dvr at the show with     hours of recording capability  instant replay  and a search function  the set can pause and rewind tv for up to    hours  and microsoft chief bill gates announced in his pre show keynote speech a partnership with tivo  called tivotogo  which means people can play recorded programmes on windows pcs and mobile devices  all these reflect the increasing trend of freeing up multimedia so that people can watch what they want  when they want '"
      ]
     },
     "execution_count": 7,
     "metadata": {},
     "output_type": "execute_result"
    }
   ],
   "source": [
    "# Data Cleaning using regex\n",
    "regs = re.sub(\"[^a-zA-Z]\", \" \", df['text'][0]).lower()\n",
    "regs"
   ]
  },
  {
   "cell_type": "code",
   "execution_count": 8,
   "id": "0cb1f6bf-e0dc-44a8-8bcc-bff7dc260a04",
   "metadata": {
    "tags": []
   },
   "outputs": [
    {
     "name": "stdout",
     "output_type": "stream",
     "text": [
      "['i', 'me', 'my', 'myself', 'we', 'our', 'ours', 'ourselves', 'you', \"you're\", \"you've\", \"you'll\", \"you'd\", 'your', 'yours', 'yourself', 'yourselves', 'he', 'him', 'his', 'himself', 'she', \"she's\", 'her', 'hers', 'herself', 'it', \"it's\", 'its', 'itself', 'they', 'them', 'their', 'theirs', 'themselves', 'what', 'which', 'who', 'whom', 'this', 'that', \"that'll\", 'these', 'those', 'am', 'is', 'are', 'was', 'were', 'be', 'been', 'being', 'have', 'has', 'had', 'having', 'do', 'does', 'did', 'doing', 'a', 'an', 'the', 'and', 'but', 'if', 'or', 'because', 'as', 'until', 'while', 'of', 'at', 'by', 'for', 'with', 'about', 'against', 'between', 'into', 'through', 'during', 'before', 'after', 'above', 'below', 'to', 'from', 'up', 'down', 'in', 'out', 'on', 'off', 'over', 'under', 'again', 'further', 'then', 'once', 'here', 'there', 'when', 'where', 'why', 'how', 'all', 'any', 'both', 'each', 'few', 'more', 'most', 'other', 'some', 'such', 'no', 'nor', 'not', 'only', 'own', 'same', 'so', 'than', 'too', 'very', 's', 't', 'can', 'will', 'just', 'don', \"don't\", 'should', \"should've\", 'now', 'd', 'll', 'm', 'o', 're', 've', 'y', 'ain', 'aren', \"aren't\", 'couldn', \"couldn't\", 'didn', \"didn't\", 'doesn', \"doesn't\", 'hadn', \"hadn't\", 'hasn', \"hasn't\", 'haven', \"haven't\", 'isn', \"isn't\", 'ma', 'mightn', \"mightn't\", 'mustn', \"mustn't\", 'needn', \"needn't\", 'shan', \"shan't\", 'shouldn', \"shouldn't\", 'wasn', \"wasn't\", 'weren', \"weren't\", 'won', \"won't\", 'wouldn', \"wouldn't\"]\n"
     ]
    },
    {
     "name": "stderr",
     "output_type": "stream",
     "text": [
      "[nltk_data] Downloading package stopwords to\n",
      "[nltk_data]     C:\\Users\\user\\AppData\\Roaming\\nltk_data...\n",
      "[nltk_data]   Package stopwords is already up-to-date!\n"
     ]
    }
   ],
   "source": [
    "#stop words\n",
    "nltk.download('stopwords')\n",
    "words = stopwords.words(\"english\")\n",
    "print(words)"
   ]
  },
  {
   "cell_type": "code",
   "execution_count": 9,
   "id": "ad88dec8-2949-4dd2-b11c-cb3415c10e6a",
   "metadata": {
    "tags": []
   },
   "outputs": [
    {
     "data": {
      "text/plain": [
       "'i am love comput'"
      ]
     },
     "execution_count": 9,
     "metadata": {},
     "output_type": "execute_result"
    }
   ],
   "source": [
    "# Data Cleaning using stemmer\n",
    "\n",
    "stemmer = PorterStemmer()\n",
    "data = \"I am loving computing\".split()\n",
    "\" \".join([stemmer.stem(i) for i in data])\n",
    "# stemmer.stem(\"\")"
   ]
  },
  {
   "cell_type": "code",
   "execution_count": 10,
   "id": "cbd7978b-abc1-4cff-815d-9bd56a567423",
   "metadata": {
    "tags": []
   },
   "outputs": [
    {
     "data": {
      "text/plain": [
       "'tv future hands viewers home theatre systems plasma high definition tvs digital video recorders moving living room way people watch tv radically different five years time according expert panel gathered annual consumer electronics show las vegas discuss new technologies impact one favourite pastimes us leading trend programmes content delivered viewers via home networks cable satellite telecoms companies broadband service providers front rooms portable devices one talked technologies ces digital personal video recorders dvr pvr set top boxes like us tivo uk sky system allow people record store play pause forward wind tv programmes want essentially technology allows much personalised tv also built high definition tv sets big business japan us slower take europe lack high definition programming people forward wind adverts also forget abiding network channel schedules putting together la carte entertainment us networks cable satellite companies worried means terms advertising revenues well brand identity viewer loyalty channels although us leads technology moment also concern raised europe particularly growing uptake services like sky happens today see nine months years time uk adam hume bbc broadcast futurologist told bbc news website likes bbc issues lost advertising revenue yet pressing issue moment commercial uk broadcasters brand loyalty important everyone talking content brands rather network brands said tim hanlon brand communications firm starcom mediavest reality broadband connections anybody producer content added challenge hard promote programme much choice means said stacey jolna senior vice president tv guide tv group way people find content want watch simplified tv viewers means networks us terms channels could take leaf google book search engine future instead scheduler help people find want watch kind channel model might work younger ipod generation used taking control gadgets play might suit everyone panel recognised older generations comfortable familiar schedules channel brands know getting perhaps want much choice put hands mr hanlon suggested end kids diapers pushing buttons already everything possible available said mr hanlon ultimately consumer tell market want new gadgets technologies showcased ces many enhancing tv watching experience high definition tv sets everywhere many new models lcd liquid crystal display tvs launched dvr capability built instead external boxes one example launched show humax inch lcd tv hour tivo dvr dvd recorder one us biggest satellite tv companies directtv even launched branded dvr show hours recording capability instant replay search function set pause rewind tv hours microsoft chief bill gates announced pre show keynote speech partnership tivo called tivotogo means people play recorded programmes windows pcs mobile devices reflect increasing trend freeing multimedia people watch want want'"
      ]
     },
     "execution_count": 10,
     "metadata": {},
     "output_type": "execute_result"
    }
   ],
   "source": [
    "# Data Cleaning removing stopwords\n",
    "words = stopwords.words(\"english\")\n",
    "without_stop_words_of_a_news = \" \".join([i for i in regs.lower().split() if i not in words])\n",
    "without_stop_words_of_a_news"
   ]
  },
  {
   "cell_type": "code",
   "execution_count": 11,
   "id": "95cf3fc0-f4ec-4b2b-a8a6-4b6116a7e5e2",
   "metadata": {
    "tags": []
   },
   "outputs": [
    {
     "data": {
      "text/html": [
       "<div>\n",
       "<style scoped>\n",
       "    .dataframe tbody tr th:only-of-type {\n",
       "        vertical-align: middle;\n",
       "    }\n",
       "\n",
       "    .dataframe tbody tr th {\n",
       "        vertical-align: top;\n",
       "    }\n",
       "\n",
       "    .dataframe thead th {\n",
       "        text-align: right;\n",
       "    }\n",
       "</style>\n",
       "<table border=\"1\" class=\"dataframe\">\n",
       "  <thead>\n",
       "    <tr style=\"text-align: right;\">\n",
       "      <th></th>\n",
       "      <th>category</th>\n",
       "      <th>text</th>\n",
       "      <th>cleaned</th>\n",
       "    </tr>\n",
       "  </thead>\n",
       "  <tbody>\n",
       "    <tr>\n",
       "      <th>861</th>\n",
       "      <td>tech</td>\n",
       "      <td>long life promised for laptop pcs scientists a...</td>\n",
       "      <td>long life promis for laptop pc scientist are w...</td>\n",
       "    </tr>\n",
       "    <tr>\n",
       "      <th>609</th>\n",
       "      <td>sport</td>\n",
       "      <td>england given tough sevens draw england will h...</td>\n",
       "      <td>england given tough seven draw england will ha...</td>\n",
       "    </tr>\n",
       "    <tr>\n",
       "      <th>185</th>\n",
       "      <td>sport</td>\n",
       "      <td>almagro continues spanish surge unseeded nicol...</td>\n",
       "      <td>almagro continu spanish surg unseed nicola alm...</td>\n",
       "    </tr>\n",
       "    <tr>\n",
       "      <th>765</th>\n",
       "      <td>business</td>\n",
       "      <td>lufthansa flies back to profit german airline ...</td>\n",
       "      <td>lufthansa fli back to profit german airlin luf...</td>\n",
       "    </tr>\n",
       "    <tr>\n",
       "      <th>1002</th>\n",
       "      <td>entertainment</td>\n",
       "      <td>jamelia s return to the top r&amp;b star jamelia h...</td>\n",
       "      <td>jamelia s return to the top r&amp;b star jamelia h...</td>\n",
       "    </tr>\n",
       "    <tr>\n",
       "      <th>...</th>\n",
       "      <td>...</td>\n",
       "      <td>...</td>\n",
       "      <td>...</td>\n",
       "    </tr>\n",
       "    <tr>\n",
       "      <th>577</th>\n",
       "      <td>sport</td>\n",
       "      <td>hearts of oak 3-2 cotonsport hearts of oak set...</td>\n",
       "      <td>heart of oak 3-2 cotonsport heart of oak set u...</td>\n",
       "    </tr>\n",
       "    <tr>\n",
       "      <th>47</th>\n",
       "      <td>politics</td>\n",
       "      <td>campaign  cold calls  questioned labour and th...</td>\n",
       "      <td>campaign cold call question labour and the con...</td>\n",
       "    </tr>\n",
       "    <tr>\n",
       "      <th>2140</th>\n",
       "      <td>sport</td>\n",
       "      <td>celts savour grand slam prospect the six natio...</td>\n",
       "      <td>celt savour grand slam prospect the six nation...</td>\n",
       "    </tr>\n",
       "    <tr>\n",
       "      <th>268</th>\n",
       "      <td>business</td>\n",
       "      <td>ex-boeing director gets jail term an ex-chief ...</td>\n",
       "      <td>ex-bo director get jail term an ex-chief finan...</td>\n",
       "    </tr>\n",
       "    <tr>\n",
       "      <th>209</th>\n",
       "      <td>sport</td>\n",
       "      <td>aragones angered by racism fine spain coach lu...</td>\n",
       "      <td>aragon anger by racism fine spain coach lui ar...</td>\n",
       "    </tr>\n",
       "  </tbody>\n",
       "</table>\n",
       "<p>2225 rows × 3 columns</p>\n",
       "</div>"
      ],
      "text/plain": [
       "           category                                               text  \\\n",
       "861            tech  long life promised for laptop pcs scientists a...   \n",
       "609           sport  england given tough sevens draw england will h...   \n",
       "185           sport  almagro continues spanish surge unseeded nicol...   \n",
       "765        business  lufthansa flies back to profit german airline ...   \n",
       "1002  entertainment  jamelia s return to the top r&b star jamelia h...   \n",
       "...             ...                                                ...   \n",
       "577           sport  hearts of oak 3-2 cotonsport hearts of oak set...   \n",
       "47         politics  campaign  cold calls  questioned labour and th...   \n",
       "2140          sport  celts savour grand slam prospect the six natio...   \n",
       "268        business  ex-boeing director gets jail term an ex-chief ...   \n",
       "209           sport  aragones angered by racism fine spain coach lu...   \n",
       "\n",
       "                                                cleaned  \n",
       "861   long life promis for laptop pc scientist are w...  \n",
       "609   england given tough seven draw england will ha...  \n",
       "185   almagro continu spanish surg unseed nicola alm...  \n",
       "765   lufthansa fli back to profit german airlin luf...  \n",
       "1002  jamelia s return to the top r&b star jamelia h...  \n",
       "...                                                 ...  \n",
       "577   heart of oak 3-2 cotonsport heart of oak set u...  \n",
       "47    campaign cold call question labour and the con...  \n",
       "2140  celt savour grand slam prospect the six nation...  \n",
       "268   ex-bo director get jail term an ex-chief finan...  \n",
       "209   aragon anger by racism fine spain coach lui ar...  \n",
       "\n",
       "[2225 rows x 3 columns]"
      ]
     },
     "execution_count": 11,
     "metadata": {},
     "output_type": "execute_result"
    }
   ],
   "source": [
    "# Doing all cleaning process using regex, stemmer, stopwords for all data\n",
    "df['cleaned'] = list(filter(lambda x: [i for i in re.sub(\"[^a-zA-Z]\", \" \", x).split() if i not in words],df['text']))\n",
    "df['cleaned'] = df['cleaned'].apply(lambda x: \" \".join([stemmer.stem(i) for i in x.lower().split()]))\n",
    "df"
   ]
  },
  {
   "cell_type": "code",
   "execution_count": 12,
   "id": "bf939911-f29b-47f8-91d3-14b243478c8d",
   "metadata": {
    "tags": []
   },
   "outputs": [
    {
     "name": "stderr",
     "output_type": "stream",
     "text": [
      "[nltk_data] Downloading package stopwords to\n",
      "[nltk_data]     C:\\Users\\user\\AppData\\Roaming\\nltk_data...\n",
      "[nltk_data]   Package stopwords is already up-to-date!\n"
     ]
    },
    {
     "data": {
      "text/html": [
       "<div>\n",
       "<style scoped>\n",
       "    .dataframe tbody tr th:only-of-type {\n",
       "        vertical-align: middle;\n",
       "    }\n",
       "\n",
       "    .dataframe tbody tr th {\n",
       "        vertical-align: top;\n",
       "    }\n",
       "\n",
       "    .dataframe thead th {\n",
       "        text-align: right;\n",
       "    }\n",
       "</style>\n",
       "<table border=\"1\" class=\"dataframe\">\n",
       "  <thead>\n",
       "    <tr style=\"text-align: right;\">\n",
       "      <th></th>\n",
       "      <th>category</th>\n",
       "      <th>text</th>\n",
       "      <th>cleaned</th>\n",
       "    </tr>\n",
       "  </thead>\n",
       "  <tbody>\n",
       "    <tr>\n",
       "      <th>861</th>\n",
       "      <td>tech</td>\n",
       "      <td>long life promised for laptop pcs scientists a...</td>\n",
       "      <td>long life promi laptop pc scientist work way e...</td>\n",
       "    </tr>\n",
       "    <tr>\n",
       "      <th>609</th>\n",
       "      <td>sport</td>\n",
       "      <td>england given tough sevens draw england will h...</td>\n",
       "      <td>england given tough seven draw england negoti ...</td>\n",
       "    </tr>\n",
       "    <tr>\n",
       "      <th>185</th>\n",
       "      <td>sport</td>\n",
       "      <td>almagro continues spanish surge unseeded nicol...</td>\n",
       "      <td>almagro continu spanish surg unse nicola almag...</td>\n",
       "    </tr>\n",
       "    <tr>\n",
       "      <th>765</th>\n",
       "      <td>business</td>\n",
       "      <td>lufthansa flies back to profit german airline ...</td>\n",
       "      <td>lufthansa fli back profit german airlin luftha...</td>\n",
       "    </tr>\n",
       "    <tr>\n",
       "      <th>1002</th>\n",
       "      <td>entertainment</td>\n",
       "      <td>jamelia s return to the top r&amp;b star jamelia h...</td>\n",
       "      <td>jamelia return top r b star jamelia three brit...</td>\n",
       "    </tr>\n",
       "    <tr>\n",
       "      <th>...</th>\n",
       "      <td>...</td>\n",
       "      <td>...</td>\n",
       "      <td>...</td>\n",
       "    </tr>\n",
       "    <tr>\n",
       "      <th>577</th>\n",
       "      <td>sport</td>\n",
       "      <td>hearts of oak 3-2 cotonsport hearts of oak set...</td>\n",
       "      <td>heart oak cotonsport heart oak set ghanaian co...</td>\n",
       "    </tr>\n",
       "    <tr>\n",
       "      <th>47</th>\n",
       "      <td>politics</td>\n",
       "      <td>campaign  cold calls  questioned labour and th...</td>\n",
       "      <td>campaign cold call question labour conserv sti...</td>\n",
       "    </tr>\n",
       "    <tr>\n",
       "      <th>2140</th>\n",
       "      <td>sport</td>\n",
       "      <td>celts savour grand slam prospect the six natio...</td>\n",
       "      <td>celt savour grand slam prospect six nation ha ...</td>\n",
       "    </tr>\n",
       "    <tr>\n",
       "      <th>268</th>\n",
       "      <td>business</td>\n",
       "      <td>ex-boeing director gets jail term an ex-chief ...</td>\n",
       "      <td>ex bo director get jail term ex chief financ o...</td>\n",
       "    </tr>\n",
       "    <tr>\n",
       "      <th>209</th>\n",
       "      <td>sport</td>\n",
       "      <td>aragones angered by racism fine spain coach lu...</td>\n",
       "      <td>aragon anger racism fine spain coach lui arago...</td>\n",
       "    </tr>\n",
       "  </tbody>\n",
       "</table>\n",
       "<p>2225 rows × 3 columns</p>\n",
       "</div>"
      ],
      "text/plain": [
       "           category                                               text  \\\n",
       "861            tech  long life promised for laptop pcs scientists a...   \n",
       "609           sport  england given tough sevens draw england will h...   \n",
       "185           sport  almagro continues spanish surge unseeded nicol...   \n",
       "765        business  lufthansa flies back to profit german airline ...   \n",
       "1002  entertainment  jamelia s return to the top r&b star jamelia h...   \n",
       "...             ...                                                ...   \n",
       "577           sport  hearts of oak 3-2 cotonsport hearts of oak set...   \n",
       "47         politics  campaign  cold calls  questioned labour and th...   \n",
       "2140          sport  celts savour grand slam prospect the six natio...   \n",
       "268        business  ex-boeing director gets jail term an ex-chief ...   \n",
       "209           sport  aragones angered by racism fine spain coach lu...   \n",
       "\n",
       "                                                cleaned  \n",
       "861   long life promi laptop pc scientist work way e...  \n",
       "609   england given tough seven draw england negoti ...  \n",
       "185   almagro continu spanish surg unse nicola almag...  \n",
       "765   lufthansa fli back profit german airlin luftha...  \n",
       "1002  jamelia return top r b star jamelia three brit...  \n",
       "...                                                 ...  \n",
       "577   heart oak cotonsport heart oak set ghanaian co...  \n",
       "47    campaign cold call question labour conserv sti...  \n",
       "2140  celt savour grand slam prospect six nation ha ...  \n",
       "268   ex bo director get jail term ex chief financ o...  \n",
       "209   aragon anger racism fine spain coach lui arago...  \n",
       "\n",
       "[2225 rows x 3 columns]"
      ]
     },
     "execution_count": 12,
     "metadata": {},
     "output_type": "execute_result"
    }
   ],
   "source": [
    "#cleaning dataset\n",
    "nltk.download('stopwords')\n",
    "stemmer = PorterStemmer()\n",
    "words = stopwords.words(\"english\")\n",
    "words.extend(['a','an','the'])\n",
    "df['cleaned'] = df['cleaned'].apply(lambda x: \" \".join([stemmer.stem(i) for i in re.sub(\"[^a-zA-Z]\", \" \", x.lower()).split() if i not in words]).lower())\n",
    "# df['newcleaned'] = [(i for i in list(df['cleaned'])).split() if i not in words ]\n",
    "df"
   ]
  },
  {
   "cell_type": "code",
   "execution_count": 13,
   "id": "5a25722f-d775-42ef-b14d-a4588d18795c",
   "metadata": {
    "tags": []
   },
   "outputs": [],
   "source": [
    "df.to_csv('cleaned_news.csv')"
   ]
  },
  {
   "cell_type": "code",
   "execution_count": 14,
   "id": "efc3e7c1-da38-4c26-887a-f47165dc46ef",
   "metadata": {
    "tags": []
   },
   "outputs": [],
   "source": [
    "# df['cleaned'] = df['text'].apply(lambda x: \" \".join([stemmer.stem(i) for i in re.sub(\"[^a-zA-Z]\", \" \", x).split() ]).lower())\n",
    "# df"
   ]
  },
  {
   "cell_type": "code",
   "execution_count": 15,
   "id": "234b3668-a1c6-483f-804d-6b79b17087d4",
   "metadata": {
    "tags": []
   },
   "outputs": [],
   "source": [
    "# print(words)"
   ]
  },
  {
   "cell_type": "code",
   "execution_count": 16,
   "id": "9946d6e5-168e-49de-828e-9e219b7b6504",
   "metadata": {
    "tags": []
   },
   "outputs": [],
   "source": [
    "# words = stopwords.words(\"nepali\")\n",
    "# words"
   ]
  },
  {
   "cell_type": "code",
   "execution_count": 17,
   "id": "6ed1d114-14dc-47c0-ba51-c30683dd0950",
   "metadata": {
    "tags": []
   },
   "outputs": [],
   "source": [
    "# df['cleaned'] = df['text'].apply(lambda x: \" \".join([stemmer.stem(i) for i in re.sub(\"[^a-zA-Z]\", \" \", x).split() if i not in words]).lower())\n",
    "# df"
   ]
  },
  {
   "cell_type": "code",
   "execution_count": 18,
   "id": "97857fa0-f583-4a90-b84b-f819c97f7918",
   "metadata": {
    "tags": []
   },
   "outputs": [],
   "source": [
    "# Training model\n",
    "from sklearn.linear_model import LogisticRegression\n",
    "log_regression = LogisticRegression()\n",
    "\n",
    "vectorizer = TfidfVectorizer(stop_words=\"english\")\n",
    "X = df['cleaned']\n",
    "Y = df['category']\n",
    "\n",
    "X_train, X_test, y_train, y_test = train_test_split(X, Y, test_size=0.15) #Splitting dataset\n",
    "\n",
    "# #Creating Pipeline\n",
    "pipeline = Pipeline([('vect', vectorizer),\n",
    "                     ('chi',  SelectKBest(chi2, k=2000)),\n",
    "                     ('clf', LogisticRegression(random_state=1))])\n",
    "\n",
    "# from sklearn.pipeline import Pipeline\n",
    "# from sklearn.svm import SVC\n",
    "# pipeline = Pipeline([\n",
    "#     ('bow', CountVectorizer(analyzer=text_process)),  # strings to token integer counts\n",
    "#     ('tfidf', TfidfTransformer()),  # integer counts to weighted TF-IDF scores\n",
    "#     ('classifier', SVC()),  # train on TF-IDF vectors w/ SVM\n",
    "# ])\n",
    "\n",
    "\n",
    "# #Training model\n",
    "model = pipeline.fit(X_train, y_train)\n",
    "\n",
    "# #Creating pickle file\n",
    "# with open('LogisticRegression.pickle', 'wb') as f:\n",
    "#     pickle.dump(model, f)"
   ]
  },
  {
   "cell_type": "code",
   "execution_count": 19,
   "id": "d147858e-9b8a-4b5c-ba7d-0af3e40dbaac",
   "metadata": {
    "tags": []
   },
   "outputs": [
    {
     "name": "stdout",
     "output_type": "stream",
     "text": [
      "1598    fa probe crowd troubl fa take action troubl ma...\n",
      "1337    big war game battl arriv new titl popular meda...\n",
      "1919    iraqi win death test case probe famili iraqi c...\n",
      "1411    net fingerprint combat attack eighti larg net ...\n",
      "1087    us interest rate increa us interest rate rise ...\n",
      "                              ...                        \n",
      "1677    absa barclay talk continu south africa biggest...\n",
      "690     mp attack mugger kenya mp ha hi passport stole...\n",
      "1799    peac demo appeal reject peac protestor lost la...\n",
      "2076    look music drive mobil mobil phone still enjoy...\n",
      "685     iraq afghanistan wto talk world trade organi w...\n",
      "Name: cleaned, Length: 334, dtype: object 1598       sport\n",
      "1337        tech\n",
      "1919    politics\n",
      "1411        tech\n",
      "1087    business\n",
      "          ...   \n",
      "1677    business\n",
      "690     politics\n",
      "1799    politics\n",
      "2076        tech\n",
      "685     business\n",
      "Name: category, Length: 334, dtype: object\n"
     ]
    }
   ],
   "source": [
    "print(X_test,y_test)"
   ]
  },
  {
   "cell_type": "code",
   "execution_count": 20,
   "id": "8112c504-bee2-4e7b-801e-d78ba15889dd",
   "metadata": {
    "tags": []
   },
   "outputs": [
    {
     "name": "stdout",
     "output_type": "stream",
     "text": [
      "0.9760479041916168\n",
      "\n",
      "\n",
      "['sport' 'tech' 'politics' 'tech' 'business' 'entertainment' 'politics'\n",
      " 'sport' 'sport' 'tech' 'sport' 'business' 'politics' 'business'\n",
      " 'entertainment' 'entertainment' 'politics' 'tech' 'business'\n",
      " 'entertainment' 'entertainment' 'tech' 'sport' 'business' 'politics'\n",
      " 'sport' 'sport' 'sport' 'sport' 'politics' 'entertainment' 'politics'\n",
      " 'politics' 'tech' 'sport' 'tech' 'business' 'entertainment' 'tech'\n",
      " 'politics' 'tech' 'sport' 'business' 'tech' 'sport' 'politics' 'politics'\n",
      " 'politics' 'tech' 'entertainment' 'politics' 'business' 'entertainment'\n",
      " 'tech' 'sport' 'business' 'tech' 'business' 'tech' 'entertainment'\n",
      " 'business' 'tech' 'politics' 'tech' 'politics' 'sport' 'business'\n",
      " 'business' 'tech' 'tech' 'sport' 'politics' 'entertainment' 'business'\n",
      " 'politics' 'business' 'business' 'sport' 'sport' 'business' 'tech'\n",
      " 'sport' 'tech' 'entertainment' 'sport' 'business' 'entertainment' 'sport'\n",
      " 'politics' 'politics' 'tech' 'business' 'business' 'politics'\n",
      " 'entertainment' 'politics' 'business' 'politics' 'tech' 'business' 'tech'\n",
      " 'sport' 'tech' 'business' 'politics' 'sport' 'business' 'politics'\n",
      " 'entertainment' 'sport' 'entertainment' 'entertainment' 'sport'\n",
      " 'entertainment' 'tech' 'tech' 'entertainment' 'entertainment' 'sport'\n",
      " 'entertainment' 'politics' 'tech' 'entertainment' 'entertainment' 'tech'\n",
      " 'politics' 'business' 'politics' 'tech' 'business' 'sport' 'politics'\n",
      " 'sport' 'sport' 'entertainment' 'sport' 'tech' 'entertainment' 'politics'\n",
      " 'politics' 'sport' 'business' 'sport' 'entertainment' 'business' 'tech'\n",
      " 'entertainment' 'entertainment' 'entertainment' 'business' 'business'\n",
      " 'tech' 'entertainment' 'sport' 'tech' 'business' 'sport' 'business'\n",
      " 'entertainment' 'entertainment' 'sport' 'politics' 'sport' 'politics'\n",
      " 'politics' 'politics' 'business' 'sport' 'tech' 'business'\n",
      " 'entertainment' 'politics' 'entertainment' 'entertainment' 'tech' 'sport'\n",
      " 'tech' 'sport' 'entertainment' 'entertainment' 'tech' 'business'\n",
      " 'entertainment' 'business' 'business' 'sport' 'business' 'entertainment'\n",
      " 'politics' 'sport' 'entertainment' 'entertainment' 'sport' 'sport'\n",
      " 'business' 'business' 'sport' 'politics' 'sport' 'entertainment' 'sport'\n",
      " 'entertainment' 'business' 'politics' 'politics' 'business'\n",
      " 'entertainment' 'sport' 'sport' 'entertainment' 'sport' 'sport'\n",
      " 'entertainment' 'sport' 'business' 'business' 'politics' 'sport' 'sport'\n",
      " 'tech' 'tech' 'politics' 'entertainment' 'sport' 'politics' 'sport'\n",
      " 'sport' 'sport' 'business' 'entertainment' 'sport' 'tech' 'politics'\n",
      " 'sport' 'sport' 'sport' 'business' 'politics' 'tech' 'business' 'tech'\n",
      " 'sport' 'tech' 'tech' 'tech' 'sport' 'politics' 'sport' 'tech' 'politics'\n",
      " 'sport' 'politics' 'entertainment' 'business' 'entertainment' 'sport'\n",
      " 'politics' 'sport' 'business' 'entertainment' 'politics' 'politics'\n",
      " 'entertainment' 'tech' 'politics' 'sport' 'politics' 'politics' 'sport'\n",
      " 'sport' 'tech' 'politics' 'business' 'sport' 'business' 'politics'\n",
      " 'sport' 'business' 'entertainment' 'politics' 'tech' 'entertainment'\n",
      " 'tech' 'business' 'entertainment' 'entertainment' 'politics' 'politics'\n",
      " 'tech' 'business' 'tech' 'tech' 'sport' 'entertainment' 'politics'\n",
      " 'business' 'sport' 'tech' 'sport' 'entertainment' 'business' 'sport'\n",
      " 'sport' 'business' 'politics' 'entertainment' 'tech' 'tech' 'tech'\n",
      " 'business' 'tech' 'business' 'entertainment' 'entertainment' 'business'\n",
      " 'politics' 'business' 'entertainment' 'politics' 'tech' 'politics'\n",
      " 'business' 'business' 'tech' 'entertainment' 'sport' 'business'\n",
      " 'entertainment' 'politics' 'business' 'politics' 'politics' 'tech'\n",
      " 'business']\n"
     ]
    }
   ],
   "source": [
    "#Accuracy\n",
    "from sklearn.metrics import accuracy_score\n",
    "predict_news_cat = model.predict(X_test)\n",
    "print(accuracy_score(y_test,predict_news_cat))\n",
    "print('\\n')\n",
    "print(predict_news_cat)"
   ]
  },
  {
   "cell_type": "code",
   "execution_count": 33,
   "id": "f979aa12-163a-4c39-a080-8e700e415aa4",
   "metadata": {
    "tags": []
   },
   "outputs": [
    {
     "name": "stdout",
     "output_type": "stream",
     "text": [
      "Predicted news category =  entertainment\n"
     ]
    }
   ],
   "source": [
    "file = open('news.txt','r')\n",
    "news = file.read()\n",
    "file.close()\n",
    "\n",
    "# news = input(\"Enter news = \")\n",
    "news_data = {'predict_news':[news]}\n",
    "news_data_df = pd.DataFrame(news_data)\n",
    "\n",
    "predict_news_cat = model.predict(news_data_df['predict_news'])\n",
    "print(\"Predicted news category = \",predict_news_cat[0])"
   ]
  },
  {
   "cell_type": "code",
   "execution_count": 34,
   "id": "6d8b2479-fb1d-4450-887f-ab3828c5a556",
   "metadata": {
    "tags": []
   },
   "outputs": [
    {
     "name": "stdout",
     "output_type": "stream",
     "text": [
      "               precision    recall  f1-score   support\n",
      "\n",
      "     business       0.95      0.95      0.95        66\n",
      "entertainment       1.00      0.98      0.99        64\n",
      "     politics       0.94      0.98      0.96        66\n",
      "        sport       1.00      0.99      0.99        77\n",
      "         tech       0.98      0.97      0.98        61\n",
      "\n",
      "     accuracy                           0.98       334\n",
      "    macro avg       0.98      0.98      0.98       334\n",
      " weighted avg       0.98      0.98      0.98       334\n",
      "\n",
      "[[63  0  2  0  1]\n",
      " [ 0 63  1  0  0]\n",
      " [ 1  0 65  0  0]\n",
      " [ 0  0  1 76  0]\n",
      " [ 2  0  0  0 59]]\n"
     ]
    }
   ],
   "source": [
    "# confusion matrix and classification report(precision, recall, F1-score)\n",
    "ytest = np.array(y_test)\n",
    "print(classification_report(model.predict(X_test),ytest))\n",
    "print(confusion_matrix(model.predict(X_test),ytest))"
   ]
  },
  {
   "cell_type": "code",
   "execution_count": 35,
   "id": "c89cedbe-8271-4d5b-b64f-16194d8b6921",
   "metadata": {
    "tags": []
   },
   "outputs": [
    {
     "data": {
      "image/png": "[encoded data removed]",
      "text/plain": [
       "<Figure size 800x800 with 2 Axes>"
      ]
     },
     "metadata": {},
     "output_type": "display_data"
    }
   ],
   "source": [
    "import matplotlib.pyplot as plt\n",
    "from sklearn.metrics import ConfusionMatrixDisplay\n",
    "cm = confusion_matrix(model.predict(X_test),ytest)\n",
    "# Change figure size and increase dpi for better resolution\n",
    "# and get reference to axes object\n",
    "fig, ax = plt.subplots(figsize=(8,8), dpi=100)\n",
    "class_names = ['business','entertainment','politics','sport','tech']\n",
    "# initialize using the raw 2D confusion matrix\n",
    "# and output labels (in our case, it's 0 and 1)\n",
    "display = ConfusionMatrixDisplay(cm, display_labels=class_names)\n",
    "\n",
    "# set the plot title using the axes object\n",
    "ax.set(title='Confusion Matrix for the text classification')\n",
    "\n",
    "# show the plot.\n",
    "# Pass the parameter ax to show customizations (ex. title)\n",
    "display.plot(ax=ax);"
   ]
  },
  {
   "cell_type": "code",
   "execution_count": null,
   "id": "8666906e-3cba-4b75-b4fd-d5084b407abd",
   "metadata": {},
   "outputs": [],
   "source": []
  }
 ],
 "metadata": {
  "kernelspec": {
   "display_name": "Python 3 (ipykernel)",
   "language": "python",
   "name": "python3"
  },
  "language_info": {
   "codemirror_mode": {
    "name": "ipython",
    "version": 3
   },
   "file_extension": ".py",
   "mimetype": "text/x-python",
   "name": "python",
   "nbconvert_exporter": "python",
   "pygments_lexer": "ipython3",
   "version": "3.11.5"
  }
 },
 "nbformat": 4,
 "nbformat_minor": 5
}
